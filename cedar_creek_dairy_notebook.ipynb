{
 "cells": [
  {
   "cell_type": "code",
   "execution_count": 1,
   "id": "a2cf8569",
   "metadata": {},
   "outputs": [
    {
     "name": "stdout",
     "output_type": "stream",
     "text": [
      "Hello World!\n"
     ]
    }
   ],
   "source": [
    "print(\"Hello World!\")"
   ]
  },
  {
   "cell_type": "markdown",
   "id": "6324d85f",
   "metadata": {},
   "source": [
    "Section 1 - Generate Dataset\n"
   ]
  },
  {
   "cell_type": "code",
   "execution_count": 3,
   "id": "bdb2589d",
   "metadata": {},
   "outputs": [
    {
     "name": "stdout",
     "output_type": "stream",
     "text": [
      "Synthetic dataset generated and saved as cedar_creek_dairy_dataset_generated.csv\n"
     ]
    }
   ],
   "source": [
    "import pandas as pd\n",
    "import numpy as np\n",
    "\n",
    "# Set random seed for reproducibility\n",
    "np.random.seed(42)\n",
    "\n",
    "# Number of rows\n",
    "num_rows = 90000\n",
    "\n",
    "# Generate Cow IDs\n",
    "cow_ids = [f\"COW_{i:05d}\" for i in range(1, num_rows + 1)]\n",
    "\n",
    "# Categories\n",
    "groups = [\"Fresh\", \"Late Lactation\", \"Dry\", \"Heifer\"]\n",
    "health_statuses = [\"Healthy\", \"Mastitis\", \"Lameness\", \"Metabolic Disorder\"]\n",
    "\n",
    "# Random selections\n",
    "cow_groups = np.random.choice(groups, size=num_rows)\n",
    "health_status = np.random.choice(health_statuses, size=num_rows, p=[0.85, 0.07, 0.05, 0.03])\n",
    "treatment_flag = np.random.choice([\"Yes\", \"No\"], size=num_rows, p=[0.2, 0.8])\n",
    "\n",
    "# Numeric data\n",
    "lactation_stage = np.random.randint(1, 305, size=num_rows)\n",
    "body_condition_score = np.round(np.random.uniform(2.0, 4.5, size=num_rows), 1)\n",
    "\n",
    "corn_silage = np.round(np.random.uniform(10, 30, size=num_rows), 2)\n",
    "alfalfa = np.round(np.random.uniform(5, 15, size=num_rows), 2)\n",
    "soymeal = np.round(np.random.uniform(1, 5, size=num_rows), 2)\n",
    "minerals = np.round(np.random.uniform(0.1, 0.5, size=num_rows), 2)\n",
    "\n",
    "feed_cost = np.round(corn_silage * 0.2 + alfalfa * 0.15 + soymeal * 0.3 + minerals * 0.5 + np.random.uniform(0.5, 2.0, size=num_rows), 2)\n",
    "\n",
    "milk_yield = np.round(np.random.uniform(15, 45, size=num_rows), 2)\n",
    "milk_fat = np.round(np.random.uniform(3.0, 4.5, size=num_rows), 2)\n",
    "milk_protein = np.round(np.random.uniform(2.8, 3.6, size=num_rows), 2)\n",
    "somatic_cell_count = np.random.randint(50000, 400000, size=num_rows)\n",
    "\n",
    "temperature = np.round(np.random.uniform(30, 95, size=num_rows), 1)\n",
    "humidity = np.round(np.random.uniform(30, 90, size=num_rows), 1)\n",
    "precipitation = np.round(np.random.uniform(0, 20, size=num_rows), 1)\n",
    "soil_moisture = np.round(np.random.uniform(10, 40, size=num_rows), 1)\n",
    "\n",
    "vet_cost = np.round(np.random.uniform(0.05, 5.0, size=num_rows), 2)\n",
    "fuel_cost = np.round(np.random.uniform(0.5, 3.0, size=num_rows), 2)\n",
    "nitrogen_runoff = np.round(np.random.uniform(0.1, 2.0, size=num_rows), 2)\n",
    "feed_waste = np.round(np.random.uniform(0.1, 3.0, size=num_rows), 2)\n",
    "\n",
    "# Derived KPIs\n",
    "feed_to_yield_ratio = np.round((corn_silage + alfalfa + soymeal + minerals) / milk_yield, 3)\n",
    "health_maintenance_index = np.where(health_status == \"Healthy\", 1, 0)\n",
    "sustainability_index = np.round(np.random.uniform(65, 95, size=num_rows), 2)\n",
    "\n",
    "# Create DataFrame\n",
    "data = pd.DataFrame({\n",
    "    \"Cow_ID\": cow_ids,\n",
    "    \"Group\": cow_groups,\n",
    "    \"Lactation_Stage\": lactation_stage,\n",
    "    \"Body_Condition_Score\": body_condition_score,\n",
    "    \"Health_Status\": health_status,\n",
    "    \"Treatment_Flag\": treatment_flag,\n",
    "    \"Corn_Silage_kg\": corn_silage,\n",
    "    \"Alfalfa_kg\": alfalfa,\n",
    "    \"Soymeal_kg\": soymeal,\n",
    "    \"Minerals_kg\": minerals,\n",
    "    \"Feed_Cost_USD\": feed_cost,\n",
    "    \"Milk_Yield_Liters\": milk_yield,\n",
    "    \"Milk_Fat_%\": milk_fat,\n",
    "    \"Milk_Protein_%\": milk_protein,\n",
    "    \"Somatic_Cell_Count\": somatic_cell_count,\n",
    "    \"Temperature_F\": temperature,\n",
    "    \"Humidity_%\": humidity,\n",
    "    \"Precipitation_mm\": precipitation,\n",
    "    \"Soil_Moisture_%\": soil_moisture,\n",
    "    \"Veterinary_Cost_USD\": vet_cost,\n",
    "    \"Fuel_Cost_USD\": fuel_cost,\n",
    "    \"Nitrogen_Runoff_kg\": nitrogen_runoff,\n",
    "    \"Feed_Waste_kg\": feed_waste,\n",
    "    \"Feed_to_Yield_Ratio\": feed_to_yield_ratio,\n",
    "    \"Health_Maintenance_Index\": health_maintenance_index,\n",
    "    \"Sustainability_Index\": sustainability_index\n",
    "})\n",
    "\n",
    "# Save to CSV\n",
    "data.to_csv(\"cedar_creek_dairy_dataset_generated.csv\", index=False)\n",
    "print(\"Synthetic dataset generated and saved as cedar_creek_dairy_dataset_generated.csv\")"
   ]
  }
 ],
 "metadata": {
  "kernelspec": {
   "display_name": ".venv",
   "language": "python",
   "name": "python3"
  },
  "language_info": {
   "codemirror_mode": {
    "name": "ipython",
    "version": 3
   },
   "file_extension": ".py",
   "mimetype": "text/x-python",
   "name": "python",
   "nbconvert_exporter": "python",
   "pygments_lexer": "ipython3",
   "version": "3.13.1"
  }
 },
 "nbformat": 4,
 "nbformat_minor": 5
}
